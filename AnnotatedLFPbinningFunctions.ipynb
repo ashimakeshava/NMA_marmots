{
  "nbformat": 4,
  "nbformat_minor": 0,
  "metadata": {
    "colab": {
      "name": "Copy of Untitled4.ipynb",
      "provenance": [],
      "authorship_tag": "ABX9TyNb71i03dtO1DsfzjEWRJ7l",
      "include_colab_link": true
    },
    "kernelspec": {
      "name": "python3",
      "display_name": "Python 3"
    }
  },
  "cells": [
    {
      "cell_type": "markdown",
      "metadata": {
        "id": "view-in-github",
        "colab_type": "text"
      },
      "source": [
        "<a href=\"https://colab.research.google.com/github/ashimakeshava/NMA_marmots/blob/master/AnnotatedLFPbinningFunctions.ipynb\" target=\"_parent\"><img src=\"https://colab.research.google.com/assets/colab-badge.svg\" alt=\"Open In Colab\"/></a>"
      ]
    },
    {
      "cell_type": "markdown",
      "metadata": {
        "id": "kKQ6O5rChBdB",
        "colab_type": "text"
      },
      "source": [
        "Funktions to Bin LFP-Dataframe Data"
      ]
    },
    {
      "cell_type": "code",
      "metadata": {
        "id": "0II5CN1Sg6Ds",
        "colab_type": "code",
        "colab": {}
      },
      "source": [
        "def findIndex(time):\n",
        "    \"\"\"\n",
        "    find the index of a time [s] represented in the spike-bins. As we know, that\n",
        "    the bin-width is 10ms, the index can be aproximated as the time devided by the bin-width.\n",
        "    As we want to use it as an index, we need the return to be an int.\n",
        "\n",
        "    Args:\n",
        "    time (float)    : time in seconds\n",
        "\n",
        "    Returns:\n",
        "    (int)          : index of the responsible time bin\n",
        "\n",
        "    \"\"\"\n",
        "    index = int(time/0.01)\n",
        "    return index\n",
        "\n",
        "def getLsfFixedBins(lfp_df, session, areas):\n",
        "    \"\"\"\n",
        "    create a matrix out([trial, lfpResponseArea_1:lfpResponseArea_n]), consisting of the binned chosesn LFP responses from 500 ms to 1.5 s\n",
        "\n",
        "    Args:\n",
        "    lfp_df          : dataframe containing the lfpData\n",
        "    session (int)   : which session is of interest\n",
        "    areas           : desired brain areas\n",
        "    \n",
        "    Returns:\n",
        "    out (list of np.arrays)  : [trial][lfpResponseArea_1:lfpResponseArea_n]\n",
        "    \"\"\"\n",
        "\n",
        "    runs = lfp_df.set_index(['session',]).loc[(session)]['trial_num'].max()\n",
        "    out = [[] for run in range(runs)]\n",
        "    for run in range(runs):\n",
        "        for area in areas:\n",
        "            # print(area)\n",
        "            temp = (lfp_df.set_index(['session', 'trial_num', 'lfp_location', ]).loc[(session, run, str(area))]).to_numpy()[0][49:149]\n",
        "            out[run].append(temp)\n",
        "\n",
        "    return out\n",
        "\n",
        "def getVariedBin(lfp_df, session, areas, times, prev=25, post=25):\n",
        "    # okay so \n",
        "    \"\"\"\n",
        "    create a matrix out([trial, lfpResponseArea_1:lfpResponseArea_n]), consisting of the binned chosesn LFP responses around one timepoint of interest (per trial))\n",
        "\n",
        "    Args:\n",
        "    lfp_df          : dataframe containing the lfpData\n",
        "    session (int)   : which session is of interest\n",
        "    areas           : desired brain areas\n",
        "    times (array or list)    : containing the timepoints of interest for that trial\n",
        "    prev and post (int) : number of surrounding timebins\n",
        "\n",
        "    Returns:\n",
        "    out (list of np.arrays)  : [trial][lfpResponseArea_1:lfpResponseArea_n]\n",
        "\n",
        "    \"\"\"\n",
        "    runs = lfp_df.set_index(['session', ]).loc[(session)]['trial_num'].max()\n",
        "    out = [[] for run in range(runs)]\n",
        "    for run in range(runs):\n",
        "        idxPre= findIndex(times[run]) - prev\n",
        "        idxPost = findIndex(times[run]) + post\n",
        "        for area in areas:\n",
        "            # print(area)\n",
        "            temp = (lfp_df.set_index(['session', 'trial_num', 'lfp_location', ]).loc[(session, run, str(area))]).to_numpy()[0][idxPre:idxPost ]\n",
        "            out[run].append(temp)\n",
        "\n",
        "    return out"
      ],
      "execution_count": null,
      "outputs": []
    },
    {
      "cell_type": "markdown",
      "metadata": {
        "id": "7GWmi8Abg-T6",
        "colab_type": "text"
      },
      "source": [
        ""
      ]
    }
  ]
}