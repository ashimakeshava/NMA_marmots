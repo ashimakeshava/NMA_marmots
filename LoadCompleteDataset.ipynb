{
  "nbformat": 4,
  "nbformat_minor": 0,
  "metadata": {
    "colab": {
      "name": "Untitled3.ipynb",
      "provenance": [],
      "authorship_tag": "ABX9TyOvWsvRjrrcsVxekCAjlTky",
      "include_colab_link": true
    },
    "kernelspec": {
      "name": "python3",
      "display_name": "Python 3"
    }
  },
  "cells": [
    {
      "cell_type": "markdown",
      "metadata": {
        "id": "view-in-github",
        "colab_type": "text"
      },
      "source": [
        "<a href=\"https://colab.research.google.com/github/ashimakeshava/NMA_marmots/blob/master/LoadCompleteDataset.ipynb\" target=\"_parent\"><img src=\"https://colab.research.google.com/assets/colab-badge.svg\" alt=\"Open In Colab\"/></a>"
      ]
    },
    {
      "cell_type": "code",
      "metadata": {
        "id": "urSExIJgganw",
        "colab_type": "code",
        "colab": {}
      },
      "source": [
        "import os, requests\n",
        "import numpy as np\n",
        "import matplotlib.pyplot as plt\n",
        "from matplotlib import rcParams\n",
        "import seaborn as sns\n",
        "import pandas as pd\n",
        "import glob\n",
        "\n",
        "## Defaults\n",
        "data_path = './pickled_data/'\n",
        "plot_path = './plots/'\n",
        "os.makedirs(data_path, exist_ok=True)\n",
        "os.makedirs(plot_path, exist_ok=True)\n",
        "\n",
        "fname = []\n",
        "for j in range(3):\n",
        "  fname.append('steinmetz_part%d.npz'%j)\n",
        "fname.append('steinmetz_st.npz')\n",
        "fname.append('steinmetz_WAV.npz')\n",
        "fname.append('steinmetz_lfp.npz')\n",
        "url = [\"https://osf.io/agvxh/download\"]\n",
        "url.append(\"https://osf.io/uv3mw/download\")\n",
        "url.append(\"https://osf.io/ehmw2/download\")\n",
        "url.append(\"https://osf.io/4bjns/download\")\n",
        "url.append(\"https://osf.io/ugm9v/download\")\n",
        "url.append(\"https://osf.io/kx3v9/download\")\n",
        "for j in range(len(url)):\n",
        "  if not os.path.isfile(fname[j]):\n",
        "    try:\n",
        "      r = requests.get(url[j])\n",
        "    except requests.ConnectionError:\n",
        "      print(\"!!! Failed to download data !!!\")\n",
        "    else:\n",
        "      if r.status_code != requests.codes.ok:\n",
        "        print(\"!!! Failed to download data !!!\")\n",
        "      else:\n",
        "        with open(fname[j], \"wb\") as fid:\n",
        "          fid.write(r.content)\n",
        "\n",
        "\n",
        "alldat = np.array([])\n",
        "for j in range(3):\n",
        "  alldat = np.hstack((alldat, np.load('steinmetz_part%d.npz'%j, allow_pickle=True)['dat']))\n",
        "\n",
        "# select just one of the recordings here. 11 is nice because it has some neurons in vis ctx.\n",
        "for name in fname[3:]:\n",
        "    holder = np.load(name, allow_pickle=True)['dat']\n",
        "    keys = holder[0].keys()\n",
        "    for i in range(len(alldat)):\n",
        "        for key in keys:\n",
        "            alldat[i][key] = holder[i][key]\n",
        "\n",
        "\n",
        "dat = alldat[11]\n",
        "print(dat.keys())"
      ],
      "execution_count": null,
      "outputs": []
    }
  ]
}