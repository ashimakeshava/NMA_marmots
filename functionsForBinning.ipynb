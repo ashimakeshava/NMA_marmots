{
  "nbformat": 4,
  "nbformat_minor": 0,
  "metadata": {
    "colab": {
      "name": "Untitled1.ipynb",
      "provenance": [],
      "authorship_tag": "ABX9TyNRPAQ0MNdxSNpFFKB6QBqR",
      "include_colab_link": true
    },
    "kernelspec": {
      "name": "python3",
      "display_name": "Python 3"
    }
  },
  "cells": [
    {
      "cell_type": "markdown",
      "metadata": {
        "id": "view-in-github",
        "colab_type": "text"
      },
      "source": [
        "<a href=\"https://colab.research.google.com/github/ashimakeshava/NMA_marmots/blob/master/functionsForBinning.ipynb\" target=\"_parent\"><img src=\"https://colab.research.google.com/assets/colab-badge.svg\" alt=\"Open In Colab\"/></a>"
      ]
    },
    {
      "cell_type": "code",
      "metadata": {
        "id": "OpHzaG1vGwAX",
        "colab_type": "code",
        "colab": {}
      },
      "source": [
        "\n",
        "\n",
        "#@title Data retrieval\n",
        "import os, requests\n",
        "import numpy as np\n",
        "from matplotlib import pyplot as plt \n",
        "fname = []\n",
        "for j in range(3):\n",
        "  fname.append('steinmetz_part%d.npz'%j)\n",
        "url = [\"https://osf.io/agvxh/download\"]\n",
        "url.append(\"https://osf.io/uv3mw/download\")\n",
        "url.append(\"https://osf.io/ehmw2/download\")\n",
        "\n",
        "for j in range(len(url)):\n",
        "  if not os.path.isfile(fname[j]):\n",
        "    try:\n",
        "      r = requests.get(url[j])\n",
        "    except requests.ConnectionError:\n",
        "      print(\"!!! Failed to download data !!!\")\n",
        "    else:\n",
        "      if r.status_code != requests.codes.ok:\n",
        "        print(\"!!! Failed to download data !!!\")\n",
        "      else:\n",
        "        with open(fname[j], \"wb\") as fid:\n",
        "          fid.write(r.content)\n",
        "\n",
        "\n",
        "\n",
        "#@title Data loading\n",
        "\n",
        "\n",
        "alldat = np.array([])\n",
        "for j in range(len(fname)):\n",
        "  alldat = np.hstack((alldat, np.load('steinmetz_part%d.npz'%j, allow_pickle=True)['dat']))\n",
        "\n",
        "# select just one of the recordings here. 11 is nice because it has some neurons in vis ctx. \n",
        "dat = alldat[11]\n"
      ],
      "execution_count": 48,
      "outputs": []
    },
    {
      "cell_type": "code",
      "metadata": {
        "id": "jumDwze1LJD8",
        "colab_type": "code",
        "colab": {
          "base_uri": "https://localhost:8080/",
          "height": 317
        },
        "outputId": "d4f51466-9b5e-42ab-c49b-3b5636f894bd"
      },
      "source": [
        "\n",
        "def findIndex(time):\n",
        "    \"\"\"\n",
        "  find the index of a time [s] represented in the spike-bins. As we know, that \n",
        "  the bin-width is 10ms, the index can be aproximated as the time devided by the bin-width.\n",
        "  As we want to use it as an index, we need the return to be an int.\n",
        "\n",
        "  Args:\n",
        "    time (float)    : time in seconds\n",
        "\n",
        "  Returns:\n",
        "    (int)          : index of the responsible time bin\n",
        "\n",
        "  \"\"\"\n",
        "  index = int(time/0.01) \n",
        "  return index\n",
        "\n",
        "def binData(dat,key, start='stim_onset', stop='response_time'):\n",
        "    \"\"\"\n",
        "  Reconstruct the data based on the top K components.\n",
        "\n",
        "  Args:\n",
        "    dat (dictionary) : dict for one session\n",
        "    key (string)     : new key, that the resulting binned times are associated to\n",
        "    start (string)   : key defining the stratpoint or points\n",
        "    stop (string)    : key defig the endpoints\n",
        "\n",
        "  Returns:\n",
        "    dat(ditionary)   : dict for one session expanded by the specified time-frame\n",
        "                        dat[key] list with len = # trials, each entry (bins per neuron)\n",
        "\n",
        "  \"\"\"\n",
        "  # bins = []\n",
        "  dat[key] = [0]*dat['spks'].shape[1]   # create list initiallized with 0s of the length # trials\n",
        "  for trial in range(dat['spks'].shape[1]):\n",
        "    if start == 'stim_onset':\n",
        "      indexStart = findIndex(dat[start])\n",
        "    else:\n",
        "      indexStart = findIndex(dat[start][trial])\n",
        "    if stop == 'stim_onset':\n",
        "      indexStop = findIndex(dat[stop])\n",
        "    else:\n",
        "      indexStop = findIndex(dat[stop][trial])\n",
        "\n",
        "\n",
        "    if indexStop<250:                    # just to top the possible index\n",
        "      bin = dat['spks'][:,trial,indexStart:indexStop]\n",
        "    else:\n",
        "      bin = dat['spks'][:,trial,indexStart:249]\n",
        "    dat[key][trial]= bin                 #: assign the spiketimes to the trial \n",
        "\n",
        "  return dat\n",
        "\n",
        "\n",
        "def averagedRewHist(dat, window):\n",
        "  padded_stim = np.concatenate([np.zeros(window - 1), dat['feedback_type']])\n",
        "  dat['averagedReward'] = [0]*len(dat['feedback_type'])\n",
        "  for i in range(len(dat['feedback_type'])):\n",
        "    dat['averagedReward'][i] = np.mean(padded_stim[i:i+window])\n",
        "  return dat\n",
        "\n",
        "\n",
        "\n",
        "dat = binData(alldat[12], 'choicePeriod')\n"
      ],
      "execution_count": 49,
      "outputs": [
        {
          "output_type": "execute_result",
          "data": {
            "text/plain": [
              "(array([3., 4., 4., 7., 3., 3., 5., 5., 4., 1.]),\n",
              " array([0. , 0.9, 1.8, 2.7, 3.6, 4.5, 5.4, 6.3, 7.2, 8.1, 9. ]),\n",
              " <a list of 10 Patch objects>)"
            ]
          },
          "metadata": {
            "tags": []
          },
          "execution_count": 49
        },
        {
          "output_type": "display_data",
          "data": {
            "image/png": "[encoded data removed]",
            "text/plain": [
              "<Figure size 432x288 with 1 Axes>"
            ]
          },
          "metadata": {
            "tags": [],
            "needs_background": "light"
          }
        }
      ]
    }
  ]
}