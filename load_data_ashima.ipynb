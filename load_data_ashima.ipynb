{
 "cells": [
  {
   "cell_type": "markdown",
   "metadata": {
    "colab_type": "text",
    "id": "bEqdz1ZUMaj1"
   },
   "source": [
    "## Loading Steinmetz data"
   ]
  },
  {
   "cell_type": "code",
   "execution_count": 57,
   "metadata": {
    "ExecuteTime": {
     "end_time": "2020-07-22T10:50:13.183743Z",
     "start_time": "2020-07-22T10:50:09.492637Z"
    }
   },
   "outputs": [
    {
     "name": "stdout",
     "output_type": "stream",
     "text": [
      "Note: you may need to restart the kernel to use updated packages.\n"
     ]
    }
   ],
   "source": [
    "%pip install requests --quiet"
   ]
  },
  {
   "cell_type": "code",
   "execution_count": 33,
   "metadata": {
    "ExecuteTime": {
     "end_time": "2020-07-21T21:01:46.752112Z",
     "start_time": "2020-07-21T21:01:46.746125Z"
    }
   },
   "outputs": [],
   "source": [
    "import os, requests\n",
    "import numpy as np\n",
    "import matplotlib.pyplot as plt\n",
    "from matplotlib import rcParams \n",
    "import seaborn as sns\n",
    "import pandas as pd\n",
    "import glob"
   ]
  },
  {
   "cell_type": "code",
   "execution_count": 58,
   "metadata": {
    "ExecuteTime": {
     "end_time": "2020-07-22T10:50:53.936158Z",
     "start_time": "2020-07-22T10:50:53.928297Z"
    }
   },
   "outputs": [],
   "source": [
    "## Defaults\n",
    "data_path = './pickled_data/'\n",
    "plot_path = './plots/'\n",
    "os.makedirs(data_path, exist_ok=True)\n",
    "os.makedirs(plot_path, exist_ok=True)"
   ]
  },
  {
   "cell_type": "code",
   "execution_count": 4,
   "metadata": {
    "ExecuteTime": {
     "end_time": "2020-07-21T20:10:57.900850Z",
     "start_time": "2020-07-21T20:10:57.892871Z"
    },
    "cellView": "both",
    "colab": {},
    "colab_type": "code",
    "id": "TLWjKq8bLDqm"
   },
   "outputs": [],
   "source": [
    "#@title Data retrieval\n",
    "fname = []\n",
    "for j in range(3):\n",
    "  fname.append('steinmetz_part%d.npz'%j)\n",
    "url = [\"https://osf.io/agvxh/download\"]\n",
    "url.append(\"https://osf.io/uv3mw/download\")\n",
    "url.append(\"https://osf.io/ehmw2/download\")\n",
    "\n",
    "for j in range(len(url)):\n",
    "  if not os.path.isfile(fname[j]):\n",
    "    try:\n",
    "      r = requests.get(url[j])\n",
    "    except requests.ConnectionError:\n",
    "      print(\"!!! Failed to download data !!!\")\n",
    "    else:\n",
    "      if r.status_code != requests.codes.ok:\n",
    "        print(\"!!! Failed to download data !!!\")\n",
    "      else:\n",
    "        with open(fname[j], \"wb\") as fid:\n",
    "          fid.write(r.content)\n"
   ]
  },
  {
   "cell_type": "code",
   "execution_count": 5,
   "metadata": {
    "ExecuteTime": {
     "end_time": "2020-07-21T20:11:48.694754Z",
     "start_time": "2020-07-21T20:11:01.993490Z"
    },
    "colab": {
     "base_uri": "https://localhost:8080/",
     "height": 54
    },
    "colab_type": "code",
    "id": "sffzC_hyLgWZ",
    "outputId": "a0c2bf46-b9cb-463f-ce45-45db69e1738d"
   },
   "outputs": [
    {
     "name": "stdout",
     "output_type": "stream",
     "text": [
      "dict_keys(['spks', 'wheel', 'pupil', 'lfp', 'response', 'response_time', 'bin_size', 'stim_onset', 'contrast_right', 'contrast_left', 'brain_area', 'brain_area_lfp', 'feedback_time', 'feedback_type', 'gocue', 'mouse_name', 'date_exp', 'trough_to_peak', 'waveform_w', 'waveform_u', 'active_trials', 'contrast_left_passive', 'contrast_right_passive', 'spks_passive', 'lfp_passive', 'pupil_passive', 'wheel_passive'])\n"
     ]
    }
   ],
   "source": [
    "#@title Data loading\n",
    "alldat = np.array([])\n",
    "for j in range(len(fname)):\n",
    "  alldat = np.hstack((alldat, np.load('steinmetz_part%d.npz'%j, allow_pickle=True)['dat']))\n",
    "\n",
    "# select just one of the recordings here. 11 is nice because it has some neurons in vis ctx. \n",
    "dat = alldat[11]\n",
    "print(dat.keys())"
   ]
  },
  {
   "cell_type": "markdown",
   "metadata": {
    "colab_type": "text",
    "id": "5K7UT7dyj_6R"
   },
   "source": [
    "`alldat` contains 39 sessions from 10 mice, data from Steinmetz et al, 2019. Time bins for all measurements are 10ms, starting 500ms before stimulus onset. The mouse had to determine which side has the highest contrast. For each `dat = alldat[k]`, you have the following fields:\n",
    "\n",
    "* `dat['mouse_name']`: mouse name\n",
    "* `dat['date_exp']`: when a session was performed\n",
    "* `dat['spks']`: neurons by trials by time bins.    \n",
    "* `dat['brain_area']`: brain area for each neuron recorded. \n",
    "* `dat['contrast_right']`: contrast level for the right stimulus, which is always contralateral to the recorded brain areas.\n",
    "* `dat['contrast_left']`: contrast level for left stimulus. \n",
    "* `dat['gocue']`: when the go cue sound was played. \n",
    "* `dat['response_times']`: when the response was registered, which has to be after the go cue. The mouse can turn the wheel before the go cue (and nearly always does!), but the stimulus on the screen won't move before the go cue.  \n",
    "* `dat['response']`: which side the response was (`-1`, `0`, `1`). When the right-side stimulus had higher contrast, the correct choice was `-1`. `0` is a no go response. \n",
    "* `dat['feedback_time']`: when feedback was provided. \n",
    "* `dat['feedback_type']`: if the feedback was positive (`+1`, reward) or negative (`-1`, white noise burst).  \n",
    "* `dat['wheel']`: exact position of the wheel that the mice uses to make a response, binned at `10ms`. \n",
    "* `dat['pupil']`: pupil area  (noisy, because pupil is very small) + pupil horizontal and vertical position. \n",
    "* `dat['lfp']`: recording of the local field potential in each brain area from this experiment, binned at `10ms`.\n",
    "* `dat['brain_area_lfp']`: brain area names for the LFP channels. \n",
    "* `dat['trough_to_peak']`: measures the width of the action potential waveform for each neuron. Widths `<=10` samples are \"putative fast spiking neurons\". \n",
    "* `dat['waveform_w']`: temporal components of spike waveforms. `w@u` reconstructs the time by channels action potential shape. \n",
    "* `dat['waveform_u]`: spatial components of spike waveforms.\n",
    "* `dat['%X%_passive']`: same as above for `X` = {`spks`, `lfp`, `pupil`, `wheel`, `contrast_left`, `contrast_right`} but for  passive trials at the end of the recording when the mouse was no longer engaged and stopped making responses. \n",
    "\n",
    "\n"
   ]
  },
  {
   "cell_type": "markdown",
   "metadata": {},
   "source": [
    "## Spike data"
   ]
  },
  {
   "cell_type": "code",
   "execution_count": null,
   "metadata": {
    "scrolled": false
   },
   "outputs": [],
   "source": [
    "#dataframe with spike info for each session, mouse and trial. Columns signify time bins of 10ms\n",
    "spike_df = pd.DataFrame() \n",
    "#loop through all sessions\n",
    "for session, data in enumerate(alldat):\n",
    "    #loop through trial_data from all neurons\n",
    "    for neuron_num, neuron_data in enumerate(data['spks']):\n",
    "#         print(neuron_data.shape)\n",
    "        tmpdf = pd.DataFrame(neuron_data, columns=list(range(neuron_data.shape[1])))\n",
    "        tmpdf['trial_num'] = tmpdf.index.values\n",
    "        tmpdf['neuron_num'] = neuron_num \n",
    "        tmpdf['neuron_location'] = data['brain_area'][neuron_num]\n",
    "        tmpdf['session'] = session\n",
    "        tmpdf['mouse_name'] = data['mouse_name']\n",
    "        spike_df = pd.concat([spike_df, tmpdf], ignore_index=True)\n",
    "    if session !=0 and session%10 == 0:\n",
    "        spike_df.to_pickle(f'{data_path}/mouse_data_{session//10}.pkl')\n",
    "        spike_df = pd.DataFrame()\n",
    "    else:\n",
    "        continue\n",
    "    \n",
    "spike_df.to_pickle(f'{data_path}/mouse_data_4.pkl')\n",
    "spike_df.head()"
   ]
  },
  {
   "cell_type": "code",
   "execution_count": null,
   "metadata": {
    "ExecuteTime": {
     "end_time": "2020-07-22T10:43:25.717466Z",
     "start_time": "2020-07-22T10:43:19.637679Z"
    }
   },
   "outputs": [],
   "source": [
    "spike_df = pd.concat([pd.read_pickle(fname) for fname in glob.glob(f'{data_path}/mouse_data_*')])\n",
    "spike_df.set_index(['session', 'mouse_name','trial_num','neuron_num','neuron_location',])"
   ]
  },
  {
   "cell_type": "code",
   "execution_count": 55,
   "metadata": {
    "ExecuteTime": {
     "end_time": "2020-07-22T10:48:43.449885Z",
     "start_time": "2020-07-22T10:48:43.187745Z"
    }
   },
   "outputs": [
    {
     "data": {
      "text/plain": [
       "array(['ACA', 'MOs', 'LS', 'root', 'VISp', 'CA3', 'SUB', 'DG', 'CA1',\n",
       "       'VISl', 'VISpm', 'POST', 'VISam', 'MG', 'SPF', 'LP', 'MRN', 'NB',\n",
       "       'LGd', 'TH', 'VPL', 'VISa', 'LSr', 'OLF', 'ORB', 'PL', 'AUD',\n",
       "       'SSp', 'LD', 'CP', 'EPd', 'PIR', 'ILA', 'TT', 'PO', 'ORBm', 'MB',\n",
       "       'SCm', 'SCsg', 'POL', 'GPe', 'VISrl', 'MOp', 'LSc', 'PT', 'MD',\n",
       "       'LH', 'ZI', 'SCs', 'RN', 'MS', 'RSP', 'PAG', 'BLA', 'VPM', 'SSs',\n",
       "       'RT', 'MEA', 'ACB', 'OT', 'SI', 'SNr', 'APN', 'VAL', 'IC', 'CA2',\n",
       "       'SCig', 'DP', 'CL', 'EP', 'BMA', 'COA', 'CA'], dtype=object)"
      ]
     },
     "execution_count": 55,
     "metadata": {},
     "output_type": "execute_result"
    }
   ],
   "source": [
    "spike_df.neuron_location.unique().astype(list)"
   ]
  },
  {
   "cell_type": "code",
   "execution_count": 56,
   "metadata": {
    "ExecuteTime": {
     "end_time": "2020-07-22T10:49:05.728604Z",
     "start_time": "2020-07-22T10:49:04.978613Z"
    }
   },
   "outputs": [
    {
     "data": {
      "text/html": [
       "<div>\n",
       "<style scoped>\n",
       "    .dataframe tbody tr th:only-of-type {\n",
       "        vertical-align: middle;\n",
       "    }\n",
       "\n",
       "    .dataframe tbody tr th {\n",
       "        vertical-align: top;\n",
       "    }\n",
       "\n",
       "    .dataframe thead th {\n",
       "        text-align: right;\n",
       "    }\n",
       "</style>\n",
       "<table border=\"1\" class=\"dataframe\">\n",
       "  <thead>\n",
       "    <tr style=\"text-align: right;\">\n",
       "      <th></th>\n",
       "      <th></th>\n",
       "      <th></th>\n",
       "      <th>0</th>\n",
       "      <th>1</th>\n",
       "      <th>2</th>\n",
       "      <th>3</th>\n",
       "      <th>4</th>\n",
       "      <th>5</th>\n",
       "      <th>6</th>\n",
       "      <th>7</th>\n",
       "      <th>8</th>\n",
       "      <th>9</th>\n",
       "      <th>...</th>\n",
       "      <th>240</th>\n",
       "      <th>241</th>\n",
       "      <th>242</th>\n",
       "      <th>243</th>\n",
       "      <th>244</th>\n",
       "      <th>245</th>\n",
       "      <th>246</th>\n",
       "      <th>247</th>\n",
       "      <th>248</th>\n",
       "      <th>249</th>\n",
       "    </tr>\n",
       "    <tr>\n",
       "      <th>session</th>\n",
       "      <th>mouse_name</th>\n",
       "      <th>neuron_location</th>\n",
       "      <th></th>\n",
       "      <th></th>\n",
       "      <th></th>\n",
       "      <th></th>\n",
       "      <th></th>\n",
       "      <th></th>\n",
       "      <th></th>\n",
       "      <th></th>\n",
       "      <th></th>\n",
       "      <th></th>\n",
       "      <th></th>\n",
       "      <th></th>\n",
       "      <th></th>\n",
       "      <th></th>\n",
       "      <th></th>\n",
       "      <th></th>\n",
       "      <th></th>\n",
       "      <th></th>\n",
       "      <th></th>\n",
       "      <th></th>\n",
       "      <th></th>\n",
       "    </tr>\n",
       "  </thead>\n",
       "  <tbody>\n",
       "    <tr>\n",
       "      <th>3</th>\n",
       "      <th>Forssmann</th>\n",
       "      <th>VISa</th>\n",
       "      <td>0.013189</td>\n",
       "      <td>0.014031</td>\n",
       "      <td>0.013684</td>\n",
       "      <td>0.013238</td>\n",
       "      <td>0.012990</td>\n",
       "      <td>0.012296</td>\n",
       "      <td>0.013486</td>\n",
       "      <td>0.012841</td>\n",
       "      <td>0.012693</td>\n",
       "      <td>0.012247</td>\n",
       "      <td>...</td>\n",
       "      <td>0.017552</td>\n",
       "      <td>0.017651</td>\n",
       "      <td>0.018196</td>\n",
       "      <td>0.017552</td>\n",
       "      <td>0.017998</td>\n",
       "      <td>0.016312</td>\n",
       "      <td>0.017403</td>\n",
       "      <td>0.018593</td>\n",
       "      <td>0.017899</td>\n",
       "      <td>0.016659</td>\n",
       "    </tr>\n",
       "    <tr>\n",
       "      <th>4</th>\n",
       "      <th>Forssmann</th>\n",
       "      <th>VISa</th>\n",
       "      <td>0.007079</td>\n",
       "      <td>0.007954</td>\n",
       "      <td>0.006601</td>\n",
       "      <td>0.005448</td>\n",
       "      <td>0.005567</td>\n",
       "      <td>0.005488</td>\n",
       "      <td>0.006601</td>\n",
       "      <td>0.007158</td>\n",
       "      <td>0.005806</td>\n",
       "      <td>0.006005</td>\n",
       "      <td>...</td>\n",
       "      <td>0.013044</td>\n",
       "      <td>0.013243</td>\n",
       "      <td>0.011930</td>\n",
       "      <td>0.011970</td>\n",
       "      <td>0.012925</td>\n",
       "      <td>0.012845</td>\n",
       "      <td>0.013799</td>\n",
       "      <td>0.012527</td>\n",
       "      <td>0.015072</td>\n",
       "      <td>0.013601</td>\n",
       "    </tr>\n",
       "    <tr>\n",
       "      <th>7</th>\n",
       "      <th>Hench</th>\n",
       "      <th>VISa</th>\n",
       "      <td>0.011937</td>\n",
       "      <td>0.010730</td>\n",
       "      <td>0.010222</td>\n",
       "      <td>0.009714</td>\n",
       "      <td>0.009778</td>\n",
       "      <td>0.011873</td>\n",
       "      <td>0.009397</td>\n",
       "      <td>0.010540</td>\n",
       "      <td>0.011937</td>\n",
       "      <td>0.010921</td>\n",
       "      <td>...</td>\n",
       "      <td>0.011365</td>\n",
       "      <td>0.012508</td>\n",
       "      <td>0.014159</td>\n",
       "      <td>0.013905</td>\n",
       "      <td>0.011683</td>\n",
       "      <td>0.011873</td>\n",
       "      <td>0.011619</td>\n",
       "      <td>0.011746</td>\n",
       "      <td>0.012635</td>\n",
       "      <td>0.012063</td>\n",
       "    </tr>\n",
       "    <tr>\n",
       "      <th>19</th>\n",
       "      <th>Moniz</th>\n",
       "      <th>VISa</th>\n",
       "      <td>0.020076</td>\n",
       "      <td>0.019367</td>\n",
       "      <td>0.018931</td>\n",
       "      <td>0.020676</td>\n",
       "      <td>0.018058</td>\n",
       "      <td>0.020513</td>\n",
       "      <td>0.018876</td>\n",
       "      <td>0.021113</td>\n",
       "      <td>0.020567</td>\n",
       "      <td>0.022313</td>\n",
       "      <td>...</td>\n",
       "      <td>0.021495</td>\n",
       "      <td>0.022204</td>\n",
       "      <td>0.024768</td>\n",
       "      <td>0.024113</td>\n",
       "      <td>0.021604</td>\n",
       "      <td>0.023350</td>\n",
       "      <td>0.022968</td>\n",
       "      <td>0.023459</td>\n",
       "      <td>0.022477</td>\n",
       "      <td>0.022750</td>\n",
       "    </tr>\n",
       "    <tr>\n",
       "      <th>29</th>\n",
       "      <th>Richards</th>\n",
       "      <th>VISa</th>\n",
       "      <td>0.004417</td>\n",
       "      <td>0.006257</td>\n",
       "      <td>0.004785</td>\n",
       "      <td>0.004785</td>\n",
       "      <td>0.004785</td>\n",
       "      <td>0.002944</td>\n",
       "      <td>0.003681</td>\n",
       "      <td>0.003312</td>\n",
       "      <td>0.003312</td>\n",
       "      <td>0.005889</td>\n",
       "      <td>...</td>\n",
       "      <td>0.006257</td>\n",
       "      <td>0.007729</td>\n",
       "      <td>0.010305</td>\n",
       "      <td>0.011410</td>\n",
       "      <td>0.006257</td>\n",
       "      <td>0.009201</td>\n",
       "      <td>0.009201</td>\n",
       "      <td>0.006625</td>\n",
       "      <td>0.007729</td>\n",
       "      <td>0.005153</td>\n",
       "    </tr>\n",
       "  </tbody>\n",
       "</table>\n",
       "<p>5 rows × 250 columns</p>\n",
       "</div>"
      ],
      "text/plain": [
       "                                         0         1         2         3    \\\n",
       "session mouse_name neuron_location                                           \n",
       "3       Forssmann  VISa             0.013189  0.014031  0.013684  0.013238   \n",
       "4       Forssmann  VISa             0.007079  0.007954  0.006601  0.005448   \n",
       "7       Hench      VISa             0.011937  0.010730  0.010222  0.009714   \n",
       "19      Moniz      VISa             0.020076  0.019367  0.018931  0.020676   \n",
       "29      Richards   VISa             0.004417  0.006257  0.004785  0.004785   \n",
       "\n",
       "                                         4         5         6         7    \\\n",
       "session mouse_name neuron_location                                           \n",
       "3       Forssmann  VISa             0.012990  0.012296  0.013486  0.012841   \n",
       "4       Forssmann  VISa             0.005567  0.005488  0.006601  0.007158   \n",
       "7       Hench      VISa             0.009778  0.011873  0.009397  0.010540   \n",
       "19      Moniz      VISa             0.018058  0.020513  0.018876  0.021113   \n",
       "29      Richards   VISa             0.004785  0.002944  0.003681  0.003312   \n",
       "\n",
       "                                         8         9    ...       240  \\\n",
       "session mouse_name neuron_location                      ...             \n",
       "3       Forssmann  VISa             0.012693  0.012247  ...  0.017552   \n",
       "4       Forssmann  VISa             0.005806  0.006005  ...  0.013044   \n",
       "7       Hench      VISa             0.011937  0.010921  ...  0.011365   \n",
       "19      Moniz      VISa             0.020567  0.022313  ...  0.021495   \n",
       "29      Richards   VISa             0.003312  0.005889  ...  0.006257   \n",
       "\n",
       "                                         241       242       243       244  \\\n",
       "session mouse_name neuron_location                                           \n",
       "3       Forssmann  VISa             0.017651  0.018196  0.017552  0.017998   \n",
       "4       Forssmann  VISa             0.013243  0.011930  0.011970  0.012925   \n",
       "7       Hench      VISa             0.012508  0.014159  0.013905  0.011683   \n",
       "19      Moniz      VISa             0.022204  0.024768  0.024113  0.021604   \n",
       "29      Richards   VISa             0.007729  0.010305  0.011410  0.006257   \n",
       "\n",
       "                                         245       246       247       248  \\\n",
       "session mouse_name neuron_location                                           \n",
       "3       Forssmann  VISa             0.016312  0.017403  0.018593  0.017899   \n",
       "4       Forssmann  VISa             0.012845  0.013799  0.012527  0.015072   \n",
       "7       Hench      VISa             0.011873  0.011619  0.011746  0.012635   \n",
       "19      Moniz      VISa             0.023350  0.022968  0.023459  0.022477   \n",
       "29      Richards   VISa             0.009201  0.009201  0.006625  0.007729   \n",
       "\n",
       "                                         249  \n",
       "session mouse_name neuron_location            \n",
       "3       Forssmann  VISa             0.016659  \n",
       "4       Forssmann  VISa             0.013601  \n",
       "7       Hench      VISa             0.012063  \n",
       "19      Moniz      VISa             0.022750  \n",
       "29      Richards   VISa             0.005153  \n",
       "\n",
       "[5 rows x 250 columns]"
      ]
     },
     "execution_count": 56,
     "metadata": {},
     "output_type": "execute_result"
    }
   ],
   "source": [
    "(\n",
    "    spike_df\n",
    "    .query('neuron_location == \"VISa\"')\n",
    "    .set_index(['session', 'mouse_name','trial_num','neuron_num','neuron_location',])\n",
    "    .groupby(['session', 'mouse_name', 'neuron_location'])\n",
    "    .mean()\n",
    ")"
   ]
  },
  {
   "cell_type": "markdown",
   "metadata": {},
   "source": [
    "## Behavioral Data"
   ]
  },
  {
   "cell_type": "code",
   "execution_count": 28,
   "metadata": {
    "ExecuteTime": {
     "end_time": "2020-07-21T20:45:57.928231Z",
     "start_time": "2020-07-21T20:45:57.710171Z"
    }
   },
   "outputs": [
    {
     "data": {
      "text/html": [
       "<div>\n",
       "<style scoped>\n",
       "    .dataframe tbody tr th:only-of-type {\n",
       "        vertical-align: middle;\n",
       "    }\n",
       "\n",
       "    .dataframe tbody tr th {\n",
       "        vertical-align: top;\n",
       "    }\n",
       "\n",
       "    .dataframe thead th {\n",
       "        text-align: right;\n",
       "    }\n",
       "</style>\n",
       "<table border=\"1\" class=\"dataframe\">\n",
       "  <thead>\n",
       "    <tr style=\"text-align: right;\">\n",
       "      <th></th>\n",
       "      <th>response</th>\n",
       "      <th>feedback_type</th>\n",
       "      <th>response_time</th>\n",
       "      <th>contract_left</th>\n",
       "      <th>contrast_right</th>\n",
       "      <th>go_cue</th>\n",
       "      <th>trial_num</th>\n",
       "      <th>session</th>\n",
       "      <th>mouse_name</th>\n",
       "    </tr>\n",
       "  </thead>\n",
       "  <tbody>\n",
       "    <tr>\n",
       "      <th>0</th>\n",
       "      <td>1.0</td>\n",
       "      <td>1.0</td>\n",
       "      <td>1.150204</td>\n",
       "      <td>1.0</td>\n",
       "      <td>0.0</td>\n",
       "      <td>1.027216</td>\n",
       "      <td>0</td>\n",
       "      <td>0</td>\n",
       "      <td>Cori</td>\n",
       "    </tr>\n",
       "    <tr>\n",
       "      <th>1</th>\n",
       "      <td>-1.0</td>\n",
       "      <td>1.0</td>\n",
       "      <td>1.399503</td>\n",
       "      <td>0.0</td>\n",
       "      <td>0.5</td>\n",
       "      <td>0.874414</td>\n",
       "      <td>1</td>\n",
       "      <td>0</td>\n",
       "      <td>Cori</td>\n",
       "    </tr>\n",
       "    <tr>\n",
       "      <th>2</th>\n",
       "      <td>1.0</td>\n",
       "      <td>1.0</td>\n",
       "      <td>0.949291</td>\n",
       "      <td>1.0</td>\n",
       "      <td>0.5</td>\n",
       "      <td>0.825213</td>\n",
       "      <td>2</td>\n",
       "      <td>0</td>\n",
       "      <td>Cori</td>\n",
       "    </tr>\n",
       "    <tr>\n",
       "      <th>3</th>\n",
       "      <td>0.0</td>\n",
       "      <td>1.0</td>\n",
       "      <td>2.266802</td>\n",
       "      <td>0.0</td>\n",
       "      <td>0.0</td>\n",
       "      <td>0.761612</td>\n",
       "      <td>3</td>\n",
       "      <td>0</td>\n",
       "      <td>Cori</td>\n",
       "    </tr>\n",
       "    <tr>\n",
       "      <th>4</th>\n",
       "      <td>1.0</td>\n",
       "      <td>-1.0</td>\n",
       "      <td>0.816776</td>\n",
       "      <td>0.5</td>\n",
       "      <td>1.0</td>\n",
       "      <td>0.662010</td>\n",
       "      <td>4</td>\n",
       "      <td>0</td>\n",
       "      <td>Cori</td>\n",
       "    </tr>\n",
       "  </tbody>\n",
       "</table>\n",
       "</div>"
      ],
      "text/plain": [
       "   response  feedback_type  response_time  contract_left  contrast_right  \\\n",
       "0       1.0            1.0       1.150204            1.0             0.0   \n",
       "1      -1.0            1.0       1.399503            0.0             0.5   \n",
       "2       1.0            1.0       0.949291            1.0             0.5   \n",
       "3       0.0            1.0       2.266802            0.0             0.0   \n",
       "4       1.0           -1.0       0.816776            0.5             1.0   \n",
       "\n",
       "     go_cue  trial_num  session mouse_name  \n",
       "0  1.027216          0        0       Cori  \n",
       "1  0.874414          1        0       Cori  \n",
       "2  0.825213          2        0       Cori  \n",
       "3  0.761612          3        0       Cori  \n",
       "4  0.662010          4        0       Cori  "
      ]
     },
     "execution_count": 28,
     "metadata": {},
     "output_type": "execute_result"
    }
   ],
   "source": [
    "#data frame for behavioral data for each session mouse and trial\n",
    "behavior_df = pd.DataFrame()\n",
    "#loop through all sessions\n",
    "for session, data in enumerate(alldat):\n",
    "#     print(session)    \n",
    "    tmpdf = pd.DataFrame()\n",
    "    tmpdf['response'] = data['response']\n",
    "    tmpdf['feedback_type'] = data['feedback_type']\n",
    "    tmpdf['response_time'] = data['response_time']\n",
    "    tmpdf['contract_left'] = data['contrast_left']\n",
    "    tmpdf['contrast_right'] = data['contrast_right']\n",
    "    tmpdf['go_cue'] = data['gocue']\n",
    "    tmpdf['trial_num'] = tmpdf.index.values\n",
    "    tmpdf['session'] = session\n",
    "    tmpdf['mouse_name'] = data['mouse_name']\n",
    "    behavior_df = pd.concat([behavior_df, tmpdf], ignore_index=True)\n",
    "\n",
    "behavior_df.head()"
   ]
  },
  {
   "cell_type": "code",
   "execution_count": 59,
   "metadata": {
    "ExecuteTime": {
     "end_time": "2020-07-22T10:56:29.170422Z",
     "start_time": "2020-07-22T10:56:29.114571Z"
    }
   },
   "outputs": [
    {
     "data": {
      "text/html": [
       "<div>\n",
       "<style scoped>\n",
       "    .dataframe tbody tr th:only-of-type {\n",
       "        vertical-align: middle;\n",
       "    }\n",
       "\n",
       "    .dataframe tbody tr th {\n",
       "        vertical-align: top;\n",
       "    }\n",
       "\n",
       "    .dataframe thead th {\n",
       "        text-align: right;\n",
       "    }\n",
       "</style>\n",
       "<table border=\"1\" class=\"dataframe\">\n",
       "  <thead>\n",
       "    <tr style=\"text-align: right;\">\n",
       "      <th></th>\n",
       "      <th></th>\n",
       "      <th></th>\n",
       "      <th>response</th>\n",
       "      <th>feedback_type</th>\n",
       "      <th>response_time</th>\n",
       "      <th>contract_left</th>\n",
       "      <th>contrast_right</th>\n",
       "      <th>go_cue</th>\n",
       "    </tr>\n",
       "    <tr>\n",
       "      <th>session</th>\n",
       "      <th>mouse_name</th>\n",
       "      <th>trial_num</th>\n",
       "      <th></th>\n",
       "      <th></th>\n",
       "      <th></th>\n",
       "      <th></th>\n",
       "      <th></th>\n",
       "      <th></th>\n",
       "    </tr>\n",
       "  </thead>\n",
       "  <tbody>\n",
       "    <tr>\n",
       "      <th rowspan=\"5\" valign=\"top\">0</th>\n",
       "      <th rowspan=\"5\" valign=\"top\">Cori</th>\n",
       "      <th>0</th>\n",
       "      <td>1.0</td>\n",
       "      <td>1.0</td>\n",
       "      <td>1.150204</td>\n",
       "      <td>1.0</td>\n",
       "      <td>0.00</td>\n",
       "      <td>1.027216</td>\n",
       "    </tr>\n",
       "    <tr>\n",
       "      <th>1</th>\n",
       "      <td>-1.0</td>\n",
       "      <td>1.0</td>\n",
       "      <td>1.399503</td>\n",
       "      <td>0.0</td>\n",
       "      <td>0.50</td>\n",
       "      <td>0.874414</td>\n",
       "    </tr>\n",
       "    <tr>\n",
       "      <th>2</th>\n",
       "      <td>1.0</td>\n",
       "      <td>1.0</td>\n",
       "      <td>0.949291</td>\n",
       "      <td>1.0</td>\n",
       "      <td>0.50</td>\n",
       "      <td>0.825213</td>\n",
       "    </tr>\n",
       "    <tr>\n",
       "      <th>3</th>\n",
       "      <td>0.0</td>\n",
       "      <td>1.0</td>\n",
       "      <td>2.266802</td>\n",
       "      <td>0.0</td>\n",
       "      <td>0.00</td>\n",
       "      <td>0.761612</td>\n",
       "    </tr>\n",
       "    <tr>\n",
       "      <th>4</th>\n",
       "      <td>1.0</td>\n",
       "      <td>-1.0</td>\n",
       "      <td>0.816776</td>\n",
       "      <td>0.5</td>\n",
       "      <td>1.00</td>\n",
       "      <td>0.662010</td>\n",
       "    </tr>\n",
       "    <tr>\n",
       "      <th>...</th>\n",
       "      <th>...</th>\n",
       "      <th>...</th>\n",
       "      <td>...</td>\n",
       "      <td>...</td>\n",
       "      <td>...</td>\n",
       "      <td>...</td>\n",
       "      <td>...</td>\n",
       "      <td>...</td>\n",
       "    </tr>\n",
       "    <tr>\n",
       "      <th rowspan=\"5\" valign=\"top\">38</th>\n",
       "      <th rowspan=\"5\" valign=\"top\">Theiler</th>\n",
       "      <th>338</th>\n",
       "      <td>0.0</td>\n",
       "      <td>-1.0</td>\n",
       "      <td>2.297503</td>\n",
       "      <td>1.0</td>\n",
       "      <td>0.25</td>\n",
       "      <td>0.794097</td>\n",
       "    </tr>\n",
       "    <tr>\n",
       "      <th>339</th>\n",
       "      <td>-1.0</td>\n",
       "      <td>-1.0</td>\n",
       "      <td>1.158803</td>\n",
       "      <td>1.0</td>\n",
       "      <td>0.25</td>\n",
       "      <td>0.524700</td>\n",
       "    </tr>\n",
       "    <tr>\n",
       "      <th>340</th>\n",
       "      <td>0.0</td>\n",
       "      <td>-1.0</td>\n",
       "      <td>2.003709</td>\n",
       "      <td>1.0</td>\n",
       "      <td>0.25</td>\n",
       "      <td>0.504257</td>\n",
       "    </tr>\n",
       "    <tr>\n",
       "      <th>341</th>\n",
       "      <td>0.0</td>\n",
       "      <td>-1.0</td>\n",
       "      <td>2.076758</td>\n",
       "      <td>1.0</td>\n",
       "      <td>0.25</td>\n",
       "      <td>0.574262</td>\n",
       "    </tr>\n",
       "    <tr>\n",
       "      <th>342</th>\n",
       "      <td>0.0</td>\n",
       "      <td>-1.0</td>\n",
       "      <td>2.101029</td>\n",
       "      <td>1.0</td>\n",
       "      <td>0.25</td>\n",
       "      <td>0.589720</td>\n",
       "    </tr>\n",
       "  </tbody>\n",
       "</table>\n",
       "<p>10050 rows × 6 columns</p>\n",
       "</div>"
      ],
      "text/plain": [
       "                              response  feedback_type  response_time  \\\n",
       "session mouse_name trial_num                                           \n",
       "0       Cori       0               1.0            1.0       1.150204   \n",
       "                   1              -1.0            1.0       1.399503   \n",
       "                   2               1.0            1.0       0.949291   \n",
       "                   3               0.0            1.0       2.266802   \n",
       "                   4               1.0           -1.0       0.816776   \n",
       "...                                ...            ...            ...   \n",
       "38      Theiler    338             0.0           -1.0       2.297503   \n",
       "                   339            -1.0           -1.0       1.158803   \n",
       "                   340             0.0           -1.0       2.003709   \n",
       "                   341             0.0           -1.0       2.076758   \n",
       "                   342             0.0           -1.0       2.101029   \n",
       "\n",
       "                              contract_left  contrast_right    go_cue  \n",
       "session mouse_name trial_num                                           \n",
       "0       Cori       0                    1.0            0.00  1.027216  \n",
       "                   1                    0.0            0.50  0.874414  \n",
       "                   2                    1.0            0.50  0.825213  \n",
       "                   3                    0.0            0.00  0.761612  \n",
       "                   4                    0.5            1.00  0.662010  \n",
       "...                                     ...             ...       ...  \n",
       "38      Theiler    338                  1.0            0.25  0.794097  \n",
       "                   339                  1.0            0.25  0.524700  \n",
       "                   340                  1.0            0.25  0.504257  \n",
       "                   341                  1.0            0.25  0.574262  \n",
       "                   342                  1.0            0.25  0.589720  \n",
       "\n",
       "[10050 rows x 6 columns]"
      ]
     },
     "execution_count": 59,
     "metadata": {},
     "output_type": "execute_result"
    }
   ],
   "source": [
    "behavior_df.set_index(['session', 'mouse_name','trial_num',])"
   ]
  },
  {
   "cell_type": "code",
   "execution_count": 60,
   "metadata": {
    "ExecuteTime": {
     "end_time": "2020-07-22T10:56:31.612338Z",
     "start_time": "2020-07-22T10:56:31.602603Z"
    }
   },
   "outputs": [
    {
     "data": {
      "text/plain": [
       "array(['Cori', 'Forssmann', 'Hench', 'Lederberg', 'Moniz', 'Muller',\n",
       "       'Radnitz', 'Richards', 'Tatum', 'Theiler'], dtype=object)"
      ]
     },
     "execution_count": 60,
     "metadata": {},
     "output_type": "execute_result"
    }
   ],
   "source": [
    "behavior_df.mouse_name.unique() # so cute"
   ]
  },
  {
   "cell_type": "code",
   "execution_count": 70,
   "metadata": {
    "ExecuteTime": {
     "end_time": "2020-07-22T11:00:55.268117Z",
     "start_time": "2020-07-22T11:00:54.850209Z"
    }
   },
   "outputs": [
    {
     "data": {
      "text/plain": [
       "<matplotlib.legend.Legend at 0x192cc8469c8>"
      ]
     },
     "execution_count": 70,
     "metadata": {},
     "output_type": "execute_result"
    },
    {
     "data": {
      "image/png": "[encoded data removed]",
      "text/plain": [
       "<Figure size 432x288 with 1 Axes>"
      ]
     },
     "metadata": {
      "needs_background": "light"
     },
     "output_type": "display_data"
    }
   ],
   "source": [
    "_, ax = plt.subplots()\n",
    "(\n",
    "    behavior_df\n",
    "    .groupby(['mouse_name'])\n",
    "    .response\n",
    "    .plot(kind = 'hist', legend=True, stacked=True, ax=ax)\n",
    ");\n",
    "ax.legend(bbox_to_anchor=[1.1, 0.9])"
   ]
  },
  {
   "cell_type": "code",
   "execution_count": 72,
   "metadata": {
    "ExecuteTime": {
     "end_time": "2020-07-22T11:01:45.308325Z",
     "start_time": "2020-07-22T11:01:44.848557Z"
    }
   },
   "outputs": [
    {
     "data": {
      "text/plain": [
       "<matplotlib.legend.Legend at 0x192cc980788>"
      ]
     },
     "execution_count": 72,
     "metadata": {},
     "output_type": "execute_result"
    },
    {
     "data": {
      "image/png": "[encoded data removed]",
      "text/plain": [
       "<Figure size 432x288 with 1 Axes>"
      ]
     },
     "metadata": {
      "needs_background": "light"
     },
     "output_type": "display_data"
    }
   ],
   "source": [
    "_, ax = plt.subplots()\n",
    "(\n",
    "    behavior_df\n",
    "    .groupby(['mouse_name'])\n",
    "    .feedback_type\n",
    "    .plot(kind = 'hist', legend=True, stacked=True, ax=ax)\n",
    ");\n",
    "ax.legend(bbox_to_anchor=[1.1, 0.9])"
   ]
  },
  {
   "cell_type": "code",
   "execution_count": 73,
   "metadata": {
    "ExecuteTime": {
     "end_time": "2020-07-22T11:03:05.109262Z",
     "start_time": "2020-07-22T11:03:04.924755Z"
    }
   },
   "outputs": [
    {
     "data": {
      "text/plain": [
       "<matplotlib.axes._subplots.AxesSubplot at 0x192cf3ccbc8>"
      ]
     },
     "execution_count": 73,
     "metadata": {},
     "output_type": "execute_result"
    },
    {
     "data": {
      "image/png": "[encoded data removed]",
      "text/plain": [
       "<Figure size 432x288 with 1 Axes>"
      ]
     },
     "metadata": {
      "needs_background": "light"
     },
     "output_type": "display_data"
    }
   ],
   "source": [
    "sns.distplot(behavior_df.response_time)"
   ]
  }
 ],
 "metadata": {
  "colab": {
   "collapsed_sections": [],
   "name": "Copy of Copy of load_steinmetz_decisions.ipynb",
   "provenance": [],
   "toc_visible": true
  },
  "kernelspec": {
   "display_name": "Python 3",
   "language": "python",
   "name": "python3"
  },
  "language_info": {
   "codemirror_mode": {
    "name": "ipython",
    "version": 3
   },
   "file_extension": ".py",
   "mimetype": "text/x-python",
   "name": "python",
   "nbconvert_exporter": "python",
   "pygments_lexer": "ipython3",
   "version": "3.7.4"
  },
  "toc": {
   "base_numbering": 1,
   "nav_menu": {},
   "number_sections": true,
   "sideBar": true,
   "skip_h1_title": false,
   "title_cell": "Table of Contents",
   "title_sidebar": "Contents",
   "toc_cell": false,
   "toc_position": {},
   "toc_section_display": true,
   "toc_window_display": false
  },
  "varInspector": {
   "cols": {
    "lenName": 16,
    "lenType": 16,
    "lenVar": 40
   },
   "kernels_config": {
    "python": {
     "delete_cmd_postfix": "",
     "delete_cmd_prefix": "del ",
     "library": "var_list.py",
     "varRefreshCmd": "print(var_dic_list())"
    },
    "r": {
     "delete_cmd_postfix": ") ",
     "delete_cmd_prefix": "rm(",
     "library": "var_list.r",
     "varRefreshCmd": "cat(var_dic_list()) "
    }
   },
   "types_to_exclude": [
    "module",
    "function",
    "builtin_function_or_method",
    "instance",
    "_Feature"
   ],
   "window_display": false
  }
 },
 "nbformat": 4,
 "nbformat_minor": 1
}
